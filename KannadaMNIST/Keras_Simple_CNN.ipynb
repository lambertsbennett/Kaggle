{
 "cells": [
  {
   "cell_type": "code",
   "execution_count": 2,
   "metadata": {},
   "outputs": [],
   "source": [
    "import numpy as np \n",
    "import pandas as pd \n",
    "import tensorflow as tf\n",
    "from tensorflow.keras.callbacks import ReduceLROnPlateau, EarlyStopping\n",
    "from sklearn.model_selection import train_test_split\n",
    "from tensorflow.keras import layers, models\n",
    "from tensorflow import keras"
   ]
  },
  {
   "cell_type": "code",
   "execution_count": 3,
   "metadata": {},
   "outputs": [],
   "source": [
    "train_data = pd.read_csv(\"Data/train.csv\")\n",
    "\n",
    "target = train_data['label']\n",
    "train_vars = train_data.drop(['label'],axis=1)\n",
    "\n",
    "X_train = train_vars/255\n",
    "y = target"
   ]
  },
  {
   "cell_type": "code",
   "execution_count": 4,
   "metadata": {},
   "outputs": [],
   "source": [
    "X_train = X_train.values.reshape(X_train.shape[0],28,28,1)"
   ]
  },
  {
   "cell_type": "code",
   "execution_count": 5,
   "metadata": {},
   "outputs": [
    {
     "name": "stdout",
     "output_type": "stream",
     "text": [
      "Model: \"sequential\"\n",
      "_________________________________________________________________\n",
      "Layer (type)                 Output Shape              Param #   \n",
      "=================================================================\n",
      "conv2d (Conv2D)              (None, 25, 25, 64)        1088      \n",
      "_________________________________________________________________\n",
      "dropout (Dropout)            (None, 25, 25, 64)        0         \n",
      "_________________________________________________________________\n",
      "max_pooling2d (MaxPooling2D) (None, 12, 12, 64)        0         \n",
      "_________________________________________________________________\n",
      "conv2d_1 (Conv2D)            (None, 6, 6, 32)          100384    \n",
      "_________________________________________________________________\n",
      "dropout_1 (Dropout)          (None, 6, 6, 32)          0         \n",
      "_________________________________________________________________\n",
      "max_pooling2d_1 (MaxPooling2 (None, 3, 3, 32)          0         \n",
      "_________________________________________________________________\n",
      "conv2d_2 (Conv2D)            (None, 2, 2, 32)          4128      \n",
      "_________________________________________________________________\n",
      "dropout_2 (Dropout)          (None, 2, 2, 32)          0         \n",
      "_________________________________________________________________\n",
      "flatten (Flatten)            (None, 128)               0         \n",
      "_________________________________________________________________\n",
      "dense (Dense)                (None, 32)                4128      \n",
      "_________________________________________________________________\n",
      "dense_1 (Dense)              (None, 10)                330       \n",
      "=================================================================\n",
      "Total params: 110,058\n",
      "Trainable params: 110,058\n",
      "Non-trainable params: 0\n",
      "_________________________________________________________________\n"
     ]
    }
   ],
   "source": [
    "model = models.Sequential()\n",
    "model.add(layers.Conv2D(64, (4,4),activation='relu',input_shape=(28,28,1)))\n",
    "model.add(layers.Dropout(0.2, noise_shape=None, seed=None))\n",
    "model.add(layers.MaxPooling2D((2,2)))\n",
    "model.add(layers.Conv2D(32, (7,7),activation='relu'))\n",
    "model.add(layers.Dropout(0.2, noise_shape=None, seed=None))\n",
    "model.add(layers.MaxPooling2D((2,2)))\n",
    "model.add(layers.Conv2D(32, (2,2),activation='relu'))\n",
    "model.add(layers.Dropout(0.2, noise_shape=None, seed=None))\n",
    "\n",
    "model.add(layers.Flatten())\n",
    "model.add(layers.Dense(32,activation='relu'))\n",
    "model.add(layers.Dense(10,activation='softmax'))\n",
    "\n",
    "model.summary()"
   ]
  },
  {
   "cell_type": "code",
   "execution_count": 6,
   "metadata": {},
   "outputs": [],
   "source": [
    "model.compile(optimizer='adam',loss='sparse_categorical_crossentropy',metrics=['accuracy'])\n",
    "\n",
    "es = EarlyStopping(monitor='val_loss',mode='min',verbose=1,patience=8)\n",
    "lr_reduction = ReduceLROnPlateau(monitor='val_loss',patience=5,verbose=1,factor=0.2)"
   ]
  },
  {
   "cell_type": "code",
   "execution_count": 7,
   "metadata": {},
   "outputs": [
    {
     "name": "stdout",
     "output_type": "stream",
     "text": [
      "Train on 48000 samples, validate on 12000 samples\n",
      "Epoch 1/50\n",
      "48000/48000 [==============================] - 33s 689us/sample - loss: 0.3083 - accuracy: 0.9044 - val_loss: 0.0760 - val_accuracy: 0.9816\n",
      "Epoch 2/50\n",
      "48000/48000 [==============================] - 33s 679us/sample - loss: 0.0813 - accuracy: 0.9756 - val_loss: 0.0501 - val_accuracy: 0.9843\n",
      "Epoch 3/50\n",
      "48000/48000 [==============================] - 33s 691us/sample - loss: 0.0561 - accuracy: 0.9829 - val_loss: 0.0413 - val_accuracy: 0.9883\n",
      "Epoch 4/50\n",
      "48000/48000 [==============================] - 34s 701us/sample - loss: 0.0436 - accuracy: 0.9870 - val_loss: 0.0318 - val_accuracy: 0.9896\n",
      "Epoch 5/50\n",
      "48000/48000 [==============================] - 32s 660us/sample - loss: 0.0363 - accuracy: 0.9884 - val_loss: 0.0493 - val_accuracy: 0.9860\n",
      "Epoch 6/50\n",
      "48000/48000 [==============================] - 32s 674us/sample - loss: 0.0310 - accuracy: 0.9900 - val_loss: 0.0258 - val_accuracy: 0.9915\n",
      "Epoch 7/50\n",
      "48000/48000 [==============================] - 34s 703us/sample - loss: 0.0262 - accuracy: 0.9914 - val_loss: 0.0367 - val_accuracy: 0.9888\n",
      "Epoch 8/50\n",
      "48000/48000 [==============================] - 34s 710us/sample - loss: 0.0236 - accuracy: 0.9925 - val_loss: 0.0309 - val_accuracy: 0.9913\n",
      "Epoch 9/50\n",
      "48000/48000 [==============================] - 31s 649us/sample - loss: 0.0218 - accuracy: 0.9928 - val_loss: 0.0281 - val_accuracy: 0.9916\n",
      "Epoch 10/50\n",
      "48000/48000 [==============================] - 32s 665us/sample - loss: 0.0186 - accuracy: 0.9942 - val_loss: 0.0267 - val_accuracy: 0.9912\n",
      "Epoch 11/50\n",
      "47872/48000 [============================>.] - ETA: 0s - loss: 0.0187 - accuracy: 0.9940\n",
      "Epoch 00011: ReduceLROnPlateau reducing learning rate to 0.00020000000949949026.\n",
      "48000/48000 [==============================] - 32s 664us/sample - loss: 0.0188 - accuracy: 0.9940 - val_loss: 0.0419 - val_accuracy: 0.9883\n",
      "Epoch 12/50\n",
      "48000/48000 [==============================] - 34s 711us/sample - loss: 0.0125 - accuracy: 0.9961 - val_loss: 0.0210 - val_accuracy: 0.9937\n",
      "Epoch 13/50\n",
      "48000/48000 [==============================] - 33s 696us/sample - loss: 0.0095 - accuracy: 0.9970 - val_loss: 0.0248 - val_accuracy: 0.9929\n",
      "Epoch 14/50\n",
      "48000/48000 [==============================] - 32s 672us/sample - loss: 0.0092 - accuracy: 0.9969 - val_loss: 0.0223 - val_accuracy: 0.9938\n",
      "Epoch 15/50\n",
      "48000/48000 [==============================] - 33s 685us/sample - loss: 0.0088 - accuracy: 0.9972 - val_loss: 0.0222 - val_accuracy: 0.9937\n",
      "Epoch 16/50\n",
      "48000/48000 [==============================] - 34s 700us/sample - loss: 0.0081 - accuracy: 0.9974 - val_loss: 0.0211 - val_accuracy: 0.9937\n",
      "Epoch 17/50\n",
      "47872/48000 [============================>.] - ETA: 0s - loss: 0.0072 - accuracy: 0.9978\n",
      "Epoch 00017: ReduceLROnPlateau reducing learning rate to 4.0000001899898055e-05.\n",
      "48000/48000 [==============================] - 32s 666us/sample - loss: 0.0072 - accuracy: 0.9979 - val_loss: 0.0255 - val_accuracy: 0.9926\n",
      "Epoch 18/50\n",
      "48000/48000 [==============================] - 33s 690us/sample - loss: 0.0068 - accuracy: 0.9979 - val_loss: 0.0239 - val_accuracy: 0.9927\n",
      "Epoch 19/50\n",
      "48000/48000 [==============================] - 33s 679us/sample - loss: 0.0068 - accuracy: 0.9976 - val_loss: 0.0230 - val_accuracy: 0.9929\n",
      "Epoch 20/50\n",
      "48000/48000 [==============================] - 32s 674us/sample - loss: 0.0059 - accuracy: 0.9983 - val_loss: 0.0225 - val_accuracy: 0.9933\n",
      "Epoch 00020: early stopping\n"
     ]
    },
    {
     "data": {
      "text/plain": [
       "<tensorflow.python.keras.callbacks.History at 0x7f6515ef0090>"
      ]
     },
     "execution_count": 7,
     "metadata": {},
     "output_type": "execute_result"
    }
   ],
   "source": [
    "model.fit(X_train,np.array(y),\n",
    "          epochs=50,validation_split=0.2,\n",
    "         batch_size=128, shuffle=True,callbacks =[lr_reduction,es])"
   ]
  },
  {
   "cell_type": "code",
   "execution_count": 8,
   "metadata": {},
   "outputs": [],
   "source": [
    "test_data = pd.read_csv('Data/test.csv')\n",
    "ImageId = test_data['id']\n",
    "NN_test = test_data.drop(['id'],axis=1)\n",
    "NN_test = NN_test/255\n",
    "NN_test = NN_test.values.reshape(NN_test.shape[0],28,28,1)\n",
    "\n",
    "predictions = model.predict_classes(NN_test)"
   ]
  },
  {
   "cell_type": "code",
   "execution_count": null,
   "metadata": {},
   "outputs": [],
   "source": [
    "sub = pd.DataFrame({'id':ImageId, 'label':predictions})\n",
    "sub.to_csv(\"submission.csv\",index=False)"
   ]
  }
 ],
 "metadata": {
  "kernelspec": {
   "display_name": "Python 3",
   "language": "python",
   "name": "python3"
  },
  "language_info": {
   "codemirror_mode": {
    "name": "ipython",
    "version": 3
   },
   "file_extension": ".py",
   "mimetype": "text/x-python",
   "name": "python",
   "nbconvert_exporter": "python",
   "pygments_lexer": "ipython3",
   "version": "3.7.4"
  }
 },
 "nbformat": 4,
 "nbformat_minor": 2
}
